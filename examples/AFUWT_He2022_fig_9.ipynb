{
 "cells": [
  {
   "cell_type": "code",
   "execution_count": 1,
   "id": "006f0f3a",
   "metadata": {},
   "outputs": [
    {
     "name": "stderr",
     "output_type": "stream",
     "text": [
      "┌ Info: Precompiling WindTunnelFlow [e0585354-9e7e-483a-8342-b12d75102d0c]\n",
      "└ @ Base loading.jl:1664\n",
      "WARNING: method definition for constraint at /u/home/b/beckers/.julia/dev/GridPotentialFlow/src/constraints.jl:96 declares type variable ST but does not use it.\n",
      "WARNING: method definition for constraint at /u/home/b/beckers/.julia/dev/GridPotentialFlow/src/constraints.jl:96 declares type variable C but does not use it.\n",
      "WARNING: method definition for constraint at /u/home/b/beckers/.julia/dev/GridPotentialFlow/src/constraints.jl:96 declares type variable N but does not use it.\n"
     ]
    }
   ],
   "source": [
    "using WindTunnelFlow\n",
    "using Plots"
   ]
  },
  {
   "cell_type": "code",
   "execution_count": 2,
   "id": "b5445646",
   "metadata": {},
   "outputs": [
    {
     "data": {
      "text/plain": [
       "inflow_velocity (generic function with 1 method)"
      ]
     },
     "execution_count": 2,
     "metadata": {},
     "output_type": "execute_result"
    }
   ],
   "source": [
    "function outflow_velocity(vel,pts,t,phys_params)\n",
    "    V_out = phys_params[\"V_out\"]\n",
    "    vel .= -V_out\n",
    "end\n",
    "\n",
    "function inflow_velocity(vel,pts,t,phys_params)\n",
    "    V_in = phys_params[\"V_in\"]\n",
    "    vel .= V_in\n",
    "end"
   ]
  },
  {
   "cell_type": "code",
   "execution_count": 3,
   "id": "6438f8f9",
   "metadata": {},
   "outputs": [
    {
     "data": {
      "text/plain": [
       "0.6"
      ]
     },
     "execution_count": 3,
     "metadata": {},
     "output_type": "execute_result"
    }
   ],
   "source": [
    "# Wind tunnel characteristics\n",
    "\n",
    "H_TS = 0.61 # m\n",
    "W_TS = 0.61 # m\n",
    "L_TS = 2.1 # m\n",
    "u_0 = 2.0 # m/s\n",
    "V_in_over_u_0 = 1.17 # He 2022, figure 9\n",
    "V_TS_over_u_0 = 0.85 # He 2022, figure 9\n",
    "x_SD_lo_over_L_TS = 0.4\n",
    "x_SD_hi_over_L_TS = 0.6"
   ]
  },
  {
   "cell_type": "code",
   "execution_count": 4,
   "id": "e616f3a0",
   "metadata": {},
   "outputs": [
    {
     "data": {
      "text/plain": [
       "0.4647619047619047"
      ]
     },
     "execution_count": 4,
     "metadata": {},
     "output_type": "execute_result"
    }
   ],
   "source": [
    "V_in = V_in_over_u_0 * u_0\n",
    "V_TS = V_TS_over_u_0 * u_0\n",
    "\n",
    "A_TS = H_TS * W_TS # m^2\n",
    "Q_TS = V_TS_over_u_0 * A_TS # m^3/s\n",
    "Q_in = V_in_over_u_0 * A_TS # m^3/s\n",
    "Q_SD = Q_in - Q_TS\n",
    "\n",
    "x_SD_lo = x_SD_lo_over_L_TS * L_TS\n",
    "x_SD_hi = x_SD_hi_over_L_TS * L_TS\n",
    "L_SD = x_SD_hi - x_SD_lo\n",
    "A_SD = L_SD * W_TS\n",
    "V_out = Q_SD / A_SD"
   ]
  },
  {
   "cell_type": "code",
   "execution_count": 5,
   "id": "5891a174",
   "metadata": {},
   "outputs": [
    {
     "data": {
      "text/plain": [
       "PhysicalGrid{2}((270, 77), (30, 8), 0.01, ((-0.29, 2.39), (-0.07, 0.68)))"
      ]
     },
     "execution_count": 5,
     "metadata": {},
     "output_type": "execute_result"
    }
   ],
   "source": [
    "params = Dict()\n",
    "params[\"Re\"] = 200\n",
    "params[\"grid Re\"] = 2.0\n",
    "params[\"wind tunnel length\"] = L_TS\n",
    "params[\"wind tunnel height\"] = H_TS\n",
    "params[\"wind tunnel center\"] = (L_TS / 2, H_TS / 2)\n",
    "params[\"freestream speed\"] = V_in\n",
    "params[\"freestream angle\"] = 0.0\n",
    "params[\"V_in\"] = V_in\n",
    "params[\"V_out\"] = V_out\n",
    "params[\"V_TS\"] = V_TS\n",
    "t_final = 5.0\n",
    "xlim = (-0.1 * L_TS, 1.1 * L_TS)\n",
    "ylim = (-0.1 * H_TS, 1.1 * H_TS)\n",
    "g = setup_grid(xlim, ylim, params)"
   ]
  },
  {
   "cell_type": "code",
   "execution_count": 6,
   "id": "1d47debb",
   "metadata": {},
   "outputs": [
    {
     "data": {
      "text/plain": [
       "1-element Vector{UniformFlowThrough}:\n",
       " UniformFlowThrough(Basic pointwise-specified body with 43 points\n",
       "   Current position: (0.0,0.0)\n",
       "   Current angle (rad): 0.0\n",
       ", inflow_velocity, 3, [0.0, 0.0, 0.0, 0.0, 0.0, 0.0, 0.0, 0.0, 0.0, 0.0  …  0.4752325581395349, 0.48941860465116277, 0.5036046511627907, 0.5177906976744187, 0.5319767441860466, 0.5461627906976744, 0.5603488372093023, 0.5745348837209302, 0.5887209302325581, 0.602906976744186], [0.0, 0.0, 0.0, 0.0, 0.0, 0.0, 0.0, 0.0, 0.0, 0.0  …  0.0, 0.0, 0.0, 0.0, 0.0, 0.0, 0.0, 0.0, 0.0, 0.0])"
      ]
     },
     "execution_count": 6,
     "metadata": {},
     "output_type": "execute_result"
    }
   ],
   "source": [
    "# Create the inflow\n",
    "\n",
    "N = ceil(Int, H_TS / surface_point_spacing(g,params))\n",
    "inflow_boundary = BasicBody(\n",
    "    zeros(N),\n",
    "    collect(range(0, H_TS, N)),\n",
    "    closuretype=RigidBodyTools.OpenBody)\n",
    "inflow = UniformFlowThrough(inflow_boundary,inflow_velocity,3)\n",
    "\n",
    "params[\"inlets\"] = [inflow]"
   ]
  },
  {
   "cell_type": "code",
   "execution_count": 7,
   "id": "194989f8",
   "metadata": {},
   "outputs": [
    {
     "data": {
      "text/plain": [
       "1-element Vector{UniformFlowThrough}:\n",
       " UniformFlowThrough(Basic pointwise-specified body with 29 points\n",
       "   Current position: (0.0,0.0)\n",
       "   Current angle (rad): 0.0\n",
       ", outflow_velocity, 1, [0.8472413793103449, 0.8617241379310345, 0.8762068965517242, 0.8906896551724139, 0.9051724137931035, 0.9196551724137931, 0.9341379310344828, 0.9486206896551725, 0.9631034482758621, 0.9775862068965517  …  0.61, 0.61, 0.61, 0.61, 0.61, 0.61, 0.61, 0.61, 0.61, 0.61], [0.0, 0.0, 0.0, 0.0, 0.0, 0.0, 0.0, 0.0, 0.0, 0.0  …  0.0, 0.0, 0.0, 0.0, 0.0, 0.0, 0.0, 0.0, 0.0, 0.0])"
      ]
     },
     "execution_count": 7,
     "metadata": {},
     "output_type": "execute_result"
    }
   ],
   "source": [
    "# Create the suction at the top of the wind tunnel\n",
    "\n",
    "N = ceil(Int, L_SD / surface_point_spacing(g,params))\n",
    "outflow_boundary = BasicBody(\n",
    "    collect(range(x_SD_lo, x_SD_hi, N)),\n",
    "    H_TS * ones(N);\n",
    "    closuretype=RigidBodyTools.OpenBody)\n",
    "outflow = UniformFlowThrough(outflow_boundary,outflow_velocity,1)\n",
    "\n",
    "params[\"outlets\"] = [outflow]"
   ]
  },
  {
   "cell_type": "code",
   "execution_count": null,
   "id": "b78c7d5d",
   "metadata": {},
   "outputs": [],
   "source": [
    "wt_walls = create_windtunnel_boundaries(g,params,withinlet=false)\n",
    "plot(wt_walls,xlim=xlim,ylim=ylim)\n",
    "plot!(outflow.boundary,lc=:red)\n",
    "plot!(inflow.boundary,lc=:blue)"
   ]
  },
  {
   "cell_type": "code",
   "execution_count": null,
   "id": "20e19845",
   "metadata": {},
   "outputs": [],
   "source": [
    "prob = WindTunnelProblem(g,phys_params=params;timestep_func=ViscousFlow.DEFAULT_TIMESTEP_FUNC,\n",
    "                                   bc=ViscousFlow.get_bc_func(nothing))\n",
    "sys = construct_system(prob);"
   ]
  },
  {
   "cell_type": "code",
   "execution_count": null,
   "id": "146b7584",
   "metadata": {},
   "outputs": [],
   "source": [
    "u0 = init_sol(sys)\n",
    "tspan = (0.0,t_final)\n",
    "integrator = init(u0,tspan,sys);"
   ]
  },
  {
   "cell_type": "code",
   "execution_count": null,
   "id": "2eef7746",
   "metadata": {},
   "outputs": [],
   "source": [
    "step!(integrator)\n",
    "sol = integrator.sol;"
   ]
  },
  {
   "cell_type": "code",
   "execution_count": null,
   "id": "63a47c6d",
   "metadata": {},
   "outputs": [],
   "source": [
    "ψ = zeros_gridcurl(sys)\n",
    "ViscousFlow.streamfunction!(ψ,integrator.sol.u[end].x[1],sys,0.0)\n",
    "plot(ψ,g,title=\"streamfunction\",xlims=xlim,ylims=ylim)\n",
    "plot!(wt_walls)"
   ]
  },
  {
   "cell_type": "code",
   "execution_count": null,
   "id": "71b88200",
   "metadata": {},
   "outputs": [],
   "source": [
    "wt_vel = zeros_grid(sys);\n",
    "freestream_func = ViscousFlow.get_freestream_func(sys.forcing)\n",
    "Vinf = freestream_func(0.0,params)\n",
    "wt_vn, wt_dvn = ViscousFlow.velocity!(wt_vel, zeros_gridcurl(sys), sys, 0.1);\n",
    "vel_fcn = interpolatable_field(wt_vel,g);"
   ]
  },
  {
   "cell_type": "code",
   "execution_count": null,
   "id": "8e08ea38",
   "metadata": {},
   "outputs": [],
   "source": [
    "plot(wt_vel,size=[1100,200])"
   ]
  },
  {
   "cell_type": "code",
   "execution_count": null,
   "id": "ee6466dc",
   "metadata": {},
   "outputs": [],
   "source": [
    "plot(wt_vn,legend=false)\n",
    "plot!(wt_dvn,legend=false)\n",
    "plot!(points(wt_walls).v,legend=false)"
   ]
  },
  {
   "cell_type": "code",
   "execution_count": null,
   "id": "b4b6ac50",
   "metadata": {},
   "outputs": [],
   "source": [
    "x_centerline = -0.1*L_TS:0.01:1.1*L_TS\n",
    "y_centerline = H_TS / 2 * ones(length(x_centerline))\n",
    "u_centerline = vel_fcn[1].(x_centerline, y_centerline)\n",
    "v_centerline = vel_fcn[2].(x_centerline, y_centerline)\n",
    "aoa_centerline = 180 / π * atan.(v_centerline,u_centerline) # degrees\n",
    "\n",
    "plot(x_centerline,u_centerline./ u_0, xlabel=\"x\", label=\"u/u0\")\n",
    "plot!(x_centerline,v_centerline ./ u_0, label=\"v/u0\")"
   ]
  },
  {
   "cell_type": "code",
   "execution_count": null,
   "id": "c1570118",
   "metadata": {},
   "outputs": [],
   "source": [
    "plot(x_centerline,aoa_centerline,xlim=[0,L_TS],xlabel=\"x\",ylabel=\"aoa [degrees]\",legend=false)"
   ]
  }
 ],
 "metadata": {
  "kernelspec": {
   "display_name": "Julia 1.8.2",
   "language": "julia",
   "name": "julia-1.8"
  },
  "language_info": {
   "file_extension": ".jl",
   "mimetype": "application/julia",
   "name": "julia",
   "version": "1.8.2"
  }
 },
 "nbformat": 4,
 "nbformat_minor": 5
}
