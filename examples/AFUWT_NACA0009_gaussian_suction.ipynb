{
 "cells": [
  {
   "cell_type": "code",
   "execution_count": 1,
   "id": "006f0f3a",
   "metadata": {},
   "outputs": [],
   "source": [
    "using WindTunnelFlow\n",
    "using Plots"
   ]
  },
  {
   "cell_type": "code",
   "execution_count": 2,
   "id": "b5445646",
   "metadata": {},
   "outputs": [
    {
     "data": {
      "text/plain": [
       "inflow_velocity! (generic function with 1 method)"
      ]
     },
     "execution_count": 2,
     "metadata": {},
     "output_type": "execute_result"
    }
   ],
   "source": [
    "function suction_velocity!(vel,pts,t,phys_params)\n",
    "    V_out = phys_params[\"V_SD\"]\n",
    "    vel .= -V_out\n",
    "#     vel .= 0.0\n",
    "end\n",
    "\n",
    "function inflow_velocity!(vel,pts,t,phys_params)\n",
    "    V_in = phys_params[\"V_in\"]\n",
    "    vel .= V_in\n",
    "end"
   ]
  },
  {
   "cell_type": "code",
   "execution_count": 3,
   "id": "b0512953",
   "metadata": {},
   "outputs": [
    {
     "data": {
      "text/plain": [
       "0"
      ]
     },
     "execution_count": 3,
     "metadata": {},
     "output_type": "execute_result"
    }
   ],
   "source": [
    "# Airfoil characteristics\n",
    "\n",
    "c = 0.245 # m\n",
    "α = 0 # degrees"
   ]
  },
  {
   "cell_type": "code",
   "execution_count": 4,
   "id": "6438f8f9",
   "metadata": {},
   "outputs": [
    {
     "data": {
      "text/plain": [
       "0.6"
      ]
     },
     "execution_count": 4,
     "metadata": {},
     "output_type": "execute_result"
    }
   ],
   "source": [
    "# Wind tunnel characteristics\n",
    "\n",
    "H_TS = 0.61 # m\n",
    "W_TS = 0.61 # m\n",
    "L_TS = 2.1 # m\n",
    "\n",
    "V_in = 1.0 * c # m/s\n",
    "Q_SD_over_Q_in = 0.1\n",
    "x_SD_lo_over_L_TS = 0.4\n",
    "x_SD_hi_over_L_TS = 0.6"
   ]
  },
  {
   "cell_type": "code",
   "execution_count": 5,
   "id": "89b01ece",
   "metadata": {},
   "outputs": [
    {
     "data": {
      "text/plain": [
       "1.0"
      ]
     },
     "execution_count": 5,
     "metadata": {},
     "output_type": "execute_result"
    }
   ],
   "source": [
    "# Rescale every length by the chord length\n",
    "c_star = c / c\n",
    "H_TS_star = H_TS / c\n",
    "W_TS_star = W_TS / c\n",
    "L_TS_star = L_TS / c\n",
    "V_in_star = V_in / c # m/s"
   ]
  },
  {
   "cell_type": "code",
   "execution_count": 6,
   "id": "e616f3a0",
   "metadata": {},
   "outputs": [
    {
     "data": {
      "text/plain": [
       "0.14523809523809533"
      ]
     },
     "execution_count": 6,
     "metadata": {},
     "output_type": "execute_result"
    }
   ],
   "source": [
    "A_TS_star = H_TS_star * W_TS_star\n",
    "Q_in_star = V_in_star * A_TS_star\n",
    "Q_SD_star = Q_SD_over_Q_in * Q_in_star\n",
    "\n",
    "x_SD_lo_star = x_SD_lo_over_L_TS * L_TS_star\n",
    "x_SD_hi_star = x_SD_hi_over_L_TS * L_TS_star\n",
    "L_SD_star = x_SD_hi_star - x_SD_lo_star\n",
    "A_SD_star = L_SD_star * W_TS_star\n",
    "V_SD_star = Q_SD_star / A_SD_star"
   ]
  },
  {
   "cell_type": "code",
   "execution_count": 7,
   "id": "5891a174",
   "metadata": {},
   "outputs": [
    {
     "data": {
      "text/plain": [
       "PhysicalGrid{2}((160, 49), (9, 4), 0.06, ((-0.48, 9.0), (-0.18, 2.6399999999999997)))"
      ]
     },
     "execution_count": 7,
     "metadata": {},
     "output_type": "execute_result"
    }
   ],
   "source": [
    "params = Dict()\n",
    "params[\"Re\"] = 100\n",
    "params[\"grid Re\"] = 6.0\n",
    "params[\"wind tunnel length\"] = L_TS_star\n",
    "params[\"wind tunnel height\"] = H_TS_star\n",
    "params[\"wind tunnel center\"] = (L_TS_star / 2, H_TS_star / 2)\n",
    "params[\"freestream speed\"] = V_in_star\n",
    "params[\"freestream angle\"] = 0.0\n",
    "params[\"V_in\"] = V_in_star\n",
    "params[\"V_SD\"] = V_SD_star\n",
    "t_final = 5.0\n",
    "xlim = (-0.05 * L_TS_star, 1.05 * L_TS_star)\n",
    "ylim = (-0.05 * H_TS_star, 1.05 * H_TS_star)\n",
    "g = setup_grid(xlim, ylim, params)"
   ]
  },
  {
   "cell_type": "code",
   "execution_count": 8,
   "id": "7d8ca65a",
   "metadata": {
    "scrolled": true
   },
   "outputs": [
    {
     "data": {
      "text/plain": [
       "Basic pointwise-specified body with 24 points\n",
       "   Current position: (4.285714285714286,1.2448979591836735)\n",
       "   Current angle (rad): 0.0\n"
      ]
     },
     "execution_count": 8,
     "metadata": {},
     "output_type": "execute_result"
    }
   ],
   "source": [
    "# Airfoil in the test section\n",
    "\n",
    "Δs = surface_point_spacing(g,params)\n",
    "airfoil = NACA4(0.0, 0.0, 0.09, 300, len=c_star)\n",
    "airfoil = SplinedBody(airfoil.x, airfoil.y, Δs)\n",
    "T = RigidTransform((L_TS_star / 2, H_TS_star / 2), -α*π/180)\n",
    "T(airfoil) # transform the body to the current configuration"
   ]
  },
  {
   "cell_type": "code",
   "execution_count": 9,
   "id": "1d47debb",
   "metadata": {},
   "outputs": [
    {
     "data": {
      "text/plain": [
       "1-element Vector{UniformFlowThrough}:\n",
       " UniformFlowThrough(Basic pointwise-specified body with 29 points\n",
       "   Current position: (0.0,0.0)\n",
       "   Current angle (rad): 0.0\n",
       ", inflow_velocity!, 3, [0.0, 0.0, 0.0, 0.0, 0.0, 0.0, 0.0, 0.0, 0.0, 0.0  …  1.6741731175228711, 1.7600281491907108, 1.8458831808585503, 1.93173821252639, 2.0175932441942295, 2.103448275862069, 2.1893033075299084, 2.275158339197748, 2.361013370865588, 2.4468684025334273], [0.0, 0.0, 0.0, 0.0, 0.0, 0.0, 0.0, 0.0, 0.0, 0.0  …  0.0, 0.0, 0.0, 0.0, 0.0, 0.0, 0.0, 0.0, 0.0, 0.0])"
      ]
     },
     "execution_count": 9,
     "metadata": {},
     "output_type": "execute_result"
    }
   ],
   "source": [
    "# Create the inflow\n",
    "\n",
    "N = ceil(Int, H_TS_star / surface_point_spacing(g,params))\n",
    "inflow_boundary = BasicBody(\n",
    "    zeros(N),\n",
    "    collect(range(0, H_TS_star, N)),\n",
    "    closuretype=RigidBodyTools.OpenBody)\n",
    "inflow = UniformFlowThrough(inflow_boundary,inflow_velocity!,3)\n",
    "\n",
    "params[\"inlets\"] = [inflow]"
   ]
  },
  {
   "cell_type": "code",
   "execution_count": 10,
   "id": "194989f8",
   "metadata": {},
   "outputs": [
    {
     "data": {
      "text/plain": [
       "1-element Vector{UniformFlowThrough}:\n",
       " UniformFlowThrough(Basic pointwise-specified body with 20 points\n",
       "   Current position: (0.0,0.0)\n",
       "   Current angle (rad): 0.0\n",
       ", suction_velocity!, 1, [3.4714285714285715, 3.5571428571428574, 3.6428571428571432, 3.7285714285714286, 3.814285714285714, 3.9000000000000004, 3.9857142857142858, 4.071428571428571, 4.157142857142857, 4.242857142857143  …  2.489795918367347, 2.489795918367347, 2.489795918367347, 2.489795918367347, 2.489795918367347, 2.489795918367347, 2.489795918367347, 2.489795918367347, 2.489795918367347, 2.489795918367347], [0.0, 0.0, 0.0, 0.0, 0.0, 0.0, 0.0, 0.0, 0.0, 0.0, 0.0, 0.0, 0.0, 0.0, 0.0, 0.0, 0.0, 0.0, 0.0, 0.0])"
      ]
     },
     "execution_count": 10,
     "metadata": {},
     "output_type": "execute_result"
    }
   ],
   "source": [
    "# Create the suction at the top of the wind tunnel\n",
    "\n",
    "N = ceil(Int, L_SD_star / surface_point_spacing(g,params))\n",
    "suction_boundary = BasicBody(\n",
    "    collect(range(x_SD_lo_star, x_SD_hi_star, N)),\n",
    "    H_TS_star * ones(N);\n",
    "    closuretype=RigidBodyTools.OpenBody)\n",
    "suction = UniformFlowThrough(suction_boundary,suction_velocity!,1)\n",
    "\n",
    "params[\"outlets\"] = [suction]"
   ]
  },
  {
   "cell_type": "code",
   "execution_count": 11,
   "id": "b78c7d5d",
   "metadata": {},
   "outputs": [
    {
     "data": {
      "image/svg+xml": [
       "<?xml version=\"1.0\" encoding=\"utf-8\"?>\n",
       "<svg xmlns=\"http://www.w3.org/2000/svg\" xmlns:xlink=\"http://www.w3.org/1999/xlink\" width=\"600\" height=\"400\" viewBox=\"0 0 2400 1600\">\n",
       "<defs>\n",
       "  <clipPath id=\"clip420\">\n",
       "    <rect x=\"0\" y=\"0\" width=\"2400\" height=\"1600\"/>\n",
       "  </clipPath>\n",
       "</defs>\n",
       "<path clip-path=\"url(#clip420)\" d=\"\n",
       "M0 1600 L2400 1600 L2400 0 L0 0  Z\n",
       "  \" fill=\"#ffffff\" fill-rule=\"evenodd\" fill-opacity=\"1\"/>\n",
       "<defs>\n",
       "  <clipPath id=\"clip421\">\n",
       "    <rect x=\"480\" y=\"0\" width=\"1681\" height=\"1600\"/>\n",
       "  </clipPath>\n",
       "</defs>\n",
       "<path clip-path=\"url(#clip420)\" d=\"\n",
       "M156.112 1085.88 L2352.76 1085.88 L2352.76 447.81 L156.112 447.81  Z\n",
       "  \" fill=\"#ffffff\" fill-rule=\"evenodd\" fill-opacity=\"1\"/>\n",
       "<defs>\n",
       "  <clipPath id=\"clip422\">\n",
       "    <rect x=\"156\" y=\"447\" width=\"2198\" height=\"639\"/>\n",
       "  </clipPath>\n",
       "</defs>\n",
       "<polyline clip-path=\"url(#clip420)\" style=\"stroke:#000000; stroke-linecap:round; stroke-linejoin:round; stroke-width:4; stroke-opacity:1; fill:none\" points=\"\n",
       "  156.112,1085.88 2352.76,1085.88 \n",
       "  \"/>\n",
       "<polyline clip-path=\"url(#clip420)\" style=\"stroke:#000000; stroke-linecap:round; stroke-linejoin:round; stroke-width:4; stroke-opacity:1; fill:none\" points=\"\n",
       "  255.96,1085.88 255.96,1077.5 \n",
       "  \"/>\n",
       "<polyline clip-path=\"url(#clip420)\" style=\"stroke:#000000; stroke-linecap:round; stroke-linejoin:round; stroke-width:4; stroke-opacity:1; fill:none\" points=\"\n",
       "  721.914,1085.88 721.914,1077.5 \n",
       "  \"/>\n",
       "<polyline clip-path=\"url(#clip420)\" style=\"stroke:#000000; stroke-linecap:round; stroke-linejoin:round; stroke-width:4; stroke-opacity:1; fill:none\" points=\"\n",
       "  1187.87,1085.88 1187.87,1077.5 \n",
       "  \"/>\n",
       "<polyline clip-path=\"url(#clip420)\" style=\"stroke:#000000; stroke-linecap:round; stroke-linejoin:round; stroke-width:4; stroke-opacity:1; fill:none\" points=\"\n",
       "  1653.82,1085.88 1653.82,1077.5 \n",
       "  \"/>\n",
       "<polyline clip-path=\"url(#clip420)\" style=\"stroke:#000000; stroke-linecap:round; stroke-linejoin:round; stroke-width:4; stroke-opacity:1; fill:none\" points=\"\n",
       "  2119.78,1085.88 2119.78,1077.5 \n",
       "  \"/>\n",
       "<path clip-path=\"url(#clip420)\" d=\"M255.96 1116.8 Q252.348 1116.8 250.52 1120.37 Q248.714 1123.91 248.714 1131.04 Q248.714 1138.14 250.52 1141.71 Q252.348 1145.25 255.96 1145.25 Q259.594 1145.25 261.399 1141.71 Q263.228 1138.14 263.228 1131.04 Q263.228 1123.91 261.399 1120.37 Q259.594 1116.8 255.96 1116.8 M255.96 1113.1 Q261.77 1113.1 264.825 1117.7 Q267.904 1122.29 267.904 1131.04 Q267.904 1139.76 264.825 1144.37 Q261.77 1148.95 255.96 1148.95 Q250.149 1148.95 247.071 1144.37 Q244.015 1139.76 244.015 1131.04 Q244.015 1122.29 247.071 1117.7 Q250.149 1113.1 255.96 1113.1 Z\" fill=\"#000000\" fill-rule=\"evenodd\" fill-opacity=\"1\" /><path clip-path=\"url(#clip420)\" d=\"M716.567 1144.35 L732.886 1144.35 L732.886 1148.28 L710.942 1148.28 L710.942 1144.35 Q713.604 1141.59 718.187 1136.96 Q722.794 1132.31 723.974 1130.97 Q726.22 1128.44 727.099 1126.71 Q728.002 1124.95 728.002 1123.26 Q728.002 1120.5 726.058 1118.77 Q724.137 1117.03 721.035 1117.03 Q718.836 1117.03 716.382 1117.8 Q713.951 1118.56 711.174 1120.11 L711.174 1115.39 Q713.998 1114.25 716.451 1113.68 Q718.905 1113.1 720.942 1113.1 Q726.312 1113.1 729.507 1115.78 Q732.701 1118.47 732.701 1122.96 Q732.701 1125.09 731.891 1127.01 Q731.104 1128.91 728.998 1131.5 Q728.419 1132.17 725.317 1135.39 Q722.215 1138.58 716.567 1144.35 Z\" fill=\"#000000\" fill-rule=\"evenodd\" fill-opacity=\"1\" /><path clip-path=\"url(#clip420)\" d=\"M1190.88 1117.8 L1179.07 1136.25 L1190.88 1136.25 L1190.88 1117.8 M1189.65 1113.72 L1195.53 1113.72 L1195.53 1136.25 L1200.46 1136.25 L1200.46 1140.13 L1195.53 1140.13 L1195.53 1148.28 L1190.88 1148.28 L1190.88 1140.13 L1175.28 1140.13 L1175.28 1135.62 L1189.65 1113.72 Z\" fill=\"#000000\" fill-rule=\"evenodd\" fill-opacity=\"1\" /><path clip-path=\"url(#clip420)\" d=\"M1654.23 1129.14 Q1651.08 1129.14 1649.23 1131.29 Q1647.4 1133.44 1647.4 1137.19 Q1647.4 1140.92 1649.23 1143.1 Q1651.08 1145.25 1654.23 1145.25 Q1657.38 1145.25 1659.21 1143.1 Q1661.06 1140.92 1661.06 1137.19 Q1661.06 1133.44 1659.21 1131.29 Q1657.38 1129.14 1654.23 1129.14 M1663.51 1114.49 L1663.51 1118.75 Q1661.75 1117.91 1659.95 1117.47 Q1658.16 1117.03 1656.4 1117.03 Q1651.78 1117.03 1649.32 1120.16 Q1646.89 1123.28 1646.54 1129.6 Q1647.91 1127.59 1649.97 1126.52 Q1652.03 1125.44 1654.51 1125.44 Q1659.71 1125.44 1662.72 1128.61 Q1665.76 1131.75 1665.76 1137.19 Q1665.76 1142.52 1662.61 1145.74 Q1659.46 1148.95 1654.23 1148.95 Q1648.23 1148.95 1645.06 1144.37 Q1641.89 1139.76 1641.89 1131.04 Q1641.89 1122.84 1645.78 1117.98 Q1649.67 1113.1 1656.22 1113.1 Q1657.98 1113.1 1659.76 1113.44 Q1661.57 1113.79 1663.51 1114.49 Z\" fill=\"#000000\" fill-rule=\"evenodd\" fill-opacity=\"1\" /><path clip-path=\"url(#clip420)\" d=\"M2119.78 1131.87 Q2116.45 1131.87 2114.52 1133.65 Q2112.63 1135.44 2112.63 1138.56 Q2112.63 1141.69 2114.52 1143.47 Q2116.45 1145.25 2119.78 1145.25 Q2123.11 1145.25 2125.03 1143.47 Q2126.95 1141.66 2126.95 1138.56 Q2126.95 1135.44 2125.03 1133.65 Q2123.13 1131.87 2119.78 1131.87 M2115.1 1129.88 Q2112.09 1129.14 2110.4 1127.08 Q2108.74 1125.02 2108.74 1122.06 Q2108.74 1117.91 2111.68 1115.5 Q2114.64 1113.1 2119.78 1113.1 Q2124.94 1113.1 2127.88 1115.5 Q2130.82 1117.91 2130.82 1122.06 Q2130.82 1125.02 2129.13 1127.08 Q2127.46 1129.14 2124.48 1129.88 Q2127.86 1130.67 2129.73 1132.96 Q2131.63 1135.25 2131.63 1138.56 Q2131.63 1143.58 2128.55 1146.27 Q2125.5 1148.95 2119.78 1148.95 Q2114.06 1148.95 2110.98 1146.27 Q2107.93 1143.58 2107.93 1138.56 Q2107.93 1135.25 2109.82 1132.96 Q2111.72 1130.67 2115.1 1129.88 M2113.39 1122.5 Q2113.39 1125.18 2115.06 1126.69 Q2116.75 1128.19 2119.78 1128.19 Q2122.79 1128.19 2124.48 1126.69 Q2126.19 1125.18 2126.19 1122.5 Q2126.19 1119.81 2124.48 1118.31 Q2122.79 1116.8 2119.78 1116.8 Q2116.75 1116.8 2115.06 1118.31 Q2113.39 1119.81 2113.39 1122.5 Z\" fill=\"#000000\" fill-rule=\"evenodd\" fill-opacity=\"1\" /><polyline clip-path=\"url(#clip420)\" style=\"stroke:#000000; stroke-linecap:round; stroke-linejoin:round; stroke-width:4; stroke-opacity:1; fill:none\" points=\"\n",
       "  156.112,1085.88 156.112,447.81 \n",
       "  \"/>\n",
       "<polyline clip-path=\"url(#clip420)\" style=\"stroke:#000000; stroke-linecap:round; stroke-linejoin:round; stroke-width:4; stroke-opacity:1; fill:none\" points=\"\n",
       "  156.112,1056.88 175.01,1056.88 \n",
       "  \"/>\n",
       "<polyline clip-path=\"url(#clip420)\" style=\"stroke:#000000; stroke-linecap:round; stroke-linejoin:round; stroke-width:4; stroke-opacity:1; fill:none\" points=\"\n",
       "  156.112,940.39 175.01,940.39 \n",
       "  \"/>\n",
       "<polyline clip-path=\"url(#clip420)\" style=\"stroke:#000000; stroke-linecap:round; stroke-linejoin:round; stroke-width:4; stroke-opacity:1; fill:none\" points=\"\n",
       "  156.112,823.902 175.01,823.902 \n",
       "  \"/>\n",
       "<polyline clip-path=\"url(#clip420)\" style=\"stroke:#000000; stroke-linecap:round; stroke-linejoin:round; stroke-width:4; stroke-opacity:1; fill:none\" points=\"\n",
       "  156.112,707.413 175.01,707.413 \n",
       "  \"/>\n",
       "<polyline clip-path=\"url(#clip420)\" style=\"stroke:#000000; stroke-linecap:round; stroke-linejoin:round; stroke-width:4; stroke-opacity:1; fill:none\" points=\"\n",
       "  156.112,590.924 175.01,590.924 \n",
       "  \"/>\n",
       "<polyline clip-path=\"url(#clip420)\" style=\"stroke:#000000; stroke-linecap:round; stroke-linejoin:round; stroke-width:4; stroke-opacity:1; fill:none\" points=\"\n",
       "  156.112,474.436 175.01,474.436 \n",
       "  \"/>\n",
       "<path clip-path=\"url(#clip420)\" d=\"M62.9365 1042.68 Q59.3254 1042.68 57.4967 1046.24 Q55.6912 1049.78 55.6912 1056.91 Q55.6912 1064.02 57.4967 1067.58 Q59.3254 1071.13 62.9365 1071.13 Q66.5707 1071.13 68.3763 1067.58 Q70.205 1064.02 70.205 1056.91 Q70.205 1049.78 68.3763 1046.24 Q66.5707 1042.68 62.9365 1042.68 M62.9365 1038.97 Q68.7467 1038.97 71.8022 1043.58 Q74.8809 1048.16 74.8809 1056.91 Q74.8809 1065.64 71.8022 1070.25 Q68.7467 1074.83 62.9365 1074.83 Q57.1264 1074.83 54.0477 1070.25 Q50.9921 1065.64 50.9921 1056.91 Q50.9921 1048.16 54.0477 1043.58 Q57.1264 1038.97 62.9365 1038.97 Z\" fill=\"#000000\" fill-rule=\"evenodd\" fill-opacity=\"1\" /><path clip-path=\"url(#clip420)\" d=\"M83.0984 1068.28 L87.9827 1068.28 L87.9827 1074.16 L83.0984 1074.16 L83.0984 1068.28 Z\" fill=\"#000000\" fill-rule=\"evenodd\" fill-opacity=\"1\" /><path clip-path=\"url(#clip420)\" d=\"M108.168 1042.68 Q104.557 1042.68 102.728 1046.24 Q100.922 1049.78 100.922 1056.91 Q100.922 1064.02 102.728 1067.58 Q104.557 1071.13 108.168 1071.13 Q111.802 1071.13 113.608 1067.58 Q115.436 1064.02 115.436 1056.91 Q115.436 1049.78 113.608 1046.24 Q111.802 1042.68 108.168 1042.68 M108.168 1038.97 Q113.978 1038.97 117.033 1043.58 Q120.112 1048.16 120.112 1056.91 Q120.112 1065.64 117.033 1070.25 Q113.978 1074.83 108.168 1074.83 Q102.358 1074.83 99.2789 1070.25 Q96.2234 1065.64 96.2234 1056.91 Q96.2234 1048.16 99.2789 1043.58 Q102.358 1038.97 108.168 1038.97 Z\" fill=\"#000000\" fill-rule=\"evenodd\" fill-opacity=\"1\" /><path clip-path=\"url(#clip420)\" d=\"M63.9319 926.189 Q60.3208 926.189 58.4921 929.754 Q56.6865 933.295 56.6865 940.425 Q56.6865 947.532 58.4921 951.096 Q60.3208 954.638 63.9319 954.638 Q67.5661 954.638 69.3717 951.096 Q71.2004 947.532 71.2004 940.425 Q71.2004 933.295 69.3717 929.754 Q67.5661 926.189 63.9319 926.189 M63.9319 922.485 Q69.742 922.485 72.7976 927.092 Q75.8763 931.675 75.8763 940.425 Q75.8763 949.152 72.7976 953.758 Q69.742 958.342 63.9319 958.342 Q58.1217 958.342 55.043 953.758 Q51.9875 949.152 51.9875 940.425 Q51.9875 931.675 55.043 927.092 Q58.1217 922.485 63.9319 922.485 Z\" fill=\"#000000\" fill-rule=\"evenodd\" fill-opacity=\"1\" /><path clip-path=\"url(#clip420)\" d=\"M84.0938 951.791 L88.978 951.791 L88.978 957.67 L84.0938 957.67 L84.0938 951.791 Z\" fill=\"#000000\" fill-rule=\"evenodd\" fill-opacity=\"1\" /><path clip-path=\"url(#clip420)\" d=\"M99.2095 923.11 L117.566 923.11 L117.566 927.046 L103.492 927.046 L103.492 935.518 Q104.51 935.17 105.529 935.008 Q106.547 934.823 107.566 934.823 Q113.353 934.823 116.733 937.995 Q120.112 941.166 120.112 946.582 Q120.112 952.161 116.64 955.263 Q113.168 958.342 106.848 958.342 Q104.672 958.342 102.404 957.971 Q100.159 957.601 97.7511 956.86 L97.7511 952.161 Q99.8345 953.295 102.057 953.851 Q104.279 954.406 106.756 954.406 Q110.76 954.406 113.098 952.3 Q115.436 950.194 115.436 946.582 Q115.436 942.971 113.098 940.865 Q110.76 938.758 106.756 938.758 Q104.881 938.758 103.006 939.175 Q101.154 939.592 99.2095 940.471 L99.2095 923.11 Z\" fill=\"#000000\" fill-rule=\"evenodd\" fill-opacity=\"1\" /><path clip-path=\"url(#clip420)\" d=\"M53.7467 837.247 L61.3856 837.247 L61.3856 810.881 L53.0754 812.548 L53.0754 808.288 L61.3393 806.622 L66.0152 806.622 L66.0152 837.247 L73.654 837.247 L73.654 841.182 L53.7467 841.182 L53.7467 837.247 Z\" fill=\"#000000\" fill-rule=\"evenodd\" fill-opacity=\"1\" /><path clip-path=\"url(#clip420)\" d=\"M83.0984 835.302 L87.9827 835.302 L87.9827 841.182 L83.0984 841.182 L83.0984 835.302 Z\" fill=\"#000000\" fill-rule=\"evenodd\" fill-opacity=\"1\" /><path clip-path=\"url(#clip420)\" d=\"M108.168 809.7 Q104.557 809.7 102.728 813.265 Q100.922 816.807 100.922 823.936 Q100.922 831.043 102.728 834.608 Q104.557 838.149 108.168 838.149 Q111.802 838.149 113.608 834.608 Q115.436 831.043 115.436 823.936 Q115.436 816.807 113.608 813.265 Q111.802 809.7 108.168 809.7 M108.168 805.997 Q113.978 805.997 117.033 810.603 Q120.112 815.186 120.112 823.936 Q120.112 832.663 117.033 837.27 Q113.978 841.853 108.168 841.853 Q102.358 841.853 99.2789 837.27 Q96.2234 832.663 96.2234 823.936 Q96.2234 815.186 99.2789 810.603 Q102.358 805.997 108.168 805.997 Z\" fill=\"#000000\" fill-rule=\"evenodd\" fill-opacity=\"1\" /><path clip-path=\"url(#clip420)\" d=\"M54.7421 720.758 L62.381 720.758 L62.381 694.392 L54.0708 696.059 L54.0708 691.8 L62.3347 690.133 L67.0106 690.133 L67.0106 720.758 L74.6494 720.758 L74.6494 724.693 L54.7421 724.693 L54.7421 720.758 Z\" fill=\"#000000\" fill-rule=\"evenodd\" fill-opacity=\"1\" /><path clip-path=\"url(#clip420)\" d=\"M84.0938 718.813 L88.978 718.813 L88.978 724.693 L84.0938 724.693 L84.0938 718.813 Z\" fill=\"#000000\" fill-rule=\"evenodd\" fill-opacity=\"1\" /><path clip-path=\"url(#clip420)\" d=\"M99.2095 690.133 L117.566 690.133 L117.566 694.068 L103.492 694.068 L103.492 702.54 Q104.51 702.193 105.529 702.031 Q106.547 701.846 107.566 701.846 Q113.353 701.846 116.733 705.017 Q120.112 708.188 120.112 713.605 Q120.112 719.184 116.64 722.286 Q113.168 725.364 106.848 725.364 Q104.672 725.364 102.404 724.994 Q100.159 724.624 97.7511 723.883 L97.7511 719.184 Q99.8345 720.318 102.057 720.874 Q104.279 721.429 106.756 721.429 Q110.76 721.429 113.098 719.323 Q115.436 717.216 115.436 713.605 Q115.436 709.994 113.098 707.888 Q110.76 705.781 106.756 705.781 Q104.881 705.781 103.006 706.198 Q101.154 706.614 99.2095 707.494 L99.2095 690.133 Z\" fill=\"#000000\" fill-rule=\"evenodd\" fill-opacity=\"1\" /><path clip-path=\"url(#clip420)\" d=\"M56.9643 604.269 L73.2837 604.269 L73.2837 608.204 L51.3393 608.204 L51.3393 604.269 Q54.0014 601.515 58.5847 596.885 Q63.1911 592.232 64.3717 590.89 Q66.617 588.366 67.4967 586.63 Q68.3994 584.871 68.3994 583.181 Q68.3994 580.427 66.455 578.691 Q64.5337 576.954 61.4319 576.954 Q59.2328 576.954 56.7791 577.718 Q54.3486 578.482 51.5708 580.033 L51.5708 575.311 Q54.3949 574.177 56.8486 573.598 Q59.3023 573.019 61.3393 573.019 Q66.7096 573.019 69.9041 575.704 Q73.0985 578.39 73.0985 582.88 Q73.0985 585.01 72.2883 586.931 Q71.5013 588.829 69.3948 591.422 Q68.8161 592.093 65.7143 595.311 Q62.6124 598.505 56.9643 604.269 Z\" fill=\"#000000\" fill-rule=\"evenodd\" fill-opacity=\"1\" /><path clip-path=\"url(#clip420)\" d=\"M83.0984 602.325 L87.9827 602.325 L87.9827 608.204 L83.0984 608.204 L83.0984 602.325 Z\" fill=\"#000000\" fill-rule=\"evenodd\" fill-opacity=\"1\" /><path clip-path=\"url(#clip420)\" d=\"M108.168 576.723 Q104.557 576.723 102.728 580.288 Q100.922 583.829 100.922 590.959 Q100.922 598.065 102.728 601.63 Q104.557 605.172 108.168 605.172 Q111.802 605.172 113.608 601.63 Q115.436 598.065 115.436 590.959 Q115.436 583.829 113.608 580.288 Q111.802 576.723 108.168 576.723 M108.168 573.019 Q113.978 573.019 117.033 577.626 Q120.112 582.209 120.112 590.959 Q120.112 599.686 117.033 604.292 Q113.978 608.876 108.168 608.876 Q102.358 608.876 99.2789 604.292 Q96.2234 599.686 96.2234 590.959 Q96.2234 582.209 99.2789 577.626 Q102.358 573.019 108.168 573.019 Z\" fill=\"#000000\" fill-rule=\"evenodd\" fill-opacity=\"1\" /><path clip-path=\"url(#clip420)\" d=\"M57.9597 487.78 L74.279 487.78 L74.279 491.716 L52.3347 491.716 L52.3347 487.78 Q54.9967 485.026 59.58 480.396 Q64.1865 475.743 65.367 474.401 Q67.6124 471.878 68.492 470.142 Q69.3948 468.382 69.3948 466.693 Q69.3948 463.938 67.4504 462.202 Q65.5291 460.466 62.4272 460.466 Q60.2282 460.466 57.7745 461.23 Q55.344 461.994 52.5662 463.544 L52.5662 458.822 Q55.3903 457.688 57.8439 457.109 Q60.2976 456.531 62.3347 456.531 Q67.705 456.531 70.8994 459.216 Q74.0939 461.901 74.0939 466.392 Q74.0939 468.521 73.2837 470.443 Q72.4966 472.341 70.3902 474.933 Q69.8115 475.605 66.7096 478.822 Q63.6078 482.017 57.9597 487.78 Z\" fill=\"#000000\" fill-rule=\"evenodd\" fill-opacity=\"1\" /><path clip-path=\"url(#clip420)\" d=\"M84.0938 485.836 L88.978 485.836 L88.978 491.716 L84.0938 491.716 L84.0938 485.836 Z\" fill=\"#000000\" fill-rule=\"evenodd\" fill-opacity=\"1\" /><path clip-path=\"url(#clip420)\" d=\"M99.2095 457.156 L117.566 457.156 L117.566 461.091 L103.492 461.091 L103.492 469.563 Q104.51 469.216 105.529 469.054 Q106.547 468.869 107.566 468.869 Q113.353 468.869 116.733 472.04 Q120.112 475.211 120.112 480.628 Q120.112 486.206 116.64 489.308 Q113.168 492.387 106.848 492.387 Q104.672 492.387 102.404 492.017 Q100.159 491.646 97.7511 490.905 L97.7511 486.206 Q99.8345 487.341 102.057 487.896 Q104.279 488.452 106.756 488.452 Q110.76 488.452 113.098 486.345 Q115.436 484.239 115.436 480.628 Q115.436 477.017 113.098 474.91 Q110.76 472.804 106.756 472.804 Q104.881 472.804 103.006 473.22 Q101.154 473.637 99.2095 474.517 L99.2095 457.156 Z\" fill=\"#000000\" fill-rule=\"evenodd\" fill-opacity=\"1\" /><path clip-path=\"url(#clip422)\" d=\"\n",
       "M1377.57 765.73 L1358.03 763.785 L1338.44 762.093 L1318.84 760.568 L1299.23 759.217 L1279.61 758.067 L1259.97 757.164 L1240.32 756.584 L1220.66 756.444 L1201.01 756.935 \n",
       "  L1181.43 758.453 L1163.01 763.221 L1163.07 770.539 L1181.54 775.253 L1201.13 776.762 L1220.78 777.249 L1240.43 777.105 L1260.08 776.524 L1279.72 775.619 L1299.35 774.468 \n",
       "  L1318.96 773.116 L1338.56 771.589 L1358.14 769.897 L1377.62 767.898 L1377.57 765.73 L1377.57 1056.88 L1377.62 1056.88 L1358.14 1056.88 L1338.56 1056.88 L1318.96 1056.88 \n",
       "  L1299.35 1056.88 L1279.72 1056.88 L1260.08 1056.88 L1240.43 1056.88 L1220.78 1056.88 L1201.13 1056.88 L1181.54 1056.88 L1163.07 1056.88 L1163.01 1056.88 L1181.43 1056.88 \n",
       "  L1201.01 1056.88 L1220.66 1056.88 L1240.32 1056.88 L1259.97 1056.88 L1279.61 1056.88 L1299.23 1056.88 L1318.84 1056.88 L1338.44 1056.88 L1358.03 1056.88 L1377.57 1056.88 \n",
       "   Z\n",
       "  \" fill=\"#97b476\" fill-rule=\"evenodd\" fill-opacity=\"1\"/>\n",
       "<polyline clip-path=\"url(#clip422)\" style=\"stroke:#97b476; stroke-linecap:round; stroke-linejoin:round; stroke-width:4; stroke-opacity:1; fill:none\" points=\"\n",
       "  1377.57,765.73 1358.03,763.785 1338.44,762.093 1318.84,760.568 1299.23,759.217 1279.61,758.067 1259.97,757.164 1240.32,756.584 1220.66,756.444 1201.01,756.935 \n",
       "  1181.43,758.453 1163.01,763.221 1163.07,770.539 1181.54,775.253 1201.13,776.762 1220.78,777.249 1240.43,777.105 1260.08,776.524 1279.72,775.619 1299.35,774.468 \n",
       "  1318.96,773.116 1338.56,771.589 1358.14,769.897 1377.62,767.898 1377.57,765.73 \n",
       "  \"/>\n",
       "<polyline clip-path=\"url(#clip422)\" style=\"stroke:#97b476; stroke-linecap:round; stroke-linejoin:round; stroke-width:4; stroke-opacity:1; fill:none\" points=\"\n",
       "  265.749,476.813 285.326,476.813 304.904,476.813 324.482,476.813 344.06,476.813 363.638,476.813 383.216,476.813 402.794,476.813 422.372,476.813 441.95,476.813 \n",
       "  461.528,476.813 481.106,476.813 500.684,476.813 520.262,476.813 539.84,476.813 559.417,476.813 578.995,476.813 598.573,476.813 618.151,476.813 637.729,476.813 \n",
       "  657.307,476.813 676.885,476.813 696.463,476.813 716.041,476.813 735.619,476.813 755.197,476.813 774.775,476.813 794.353,476.813 813.931,476.813 833.509,476.813 \n",
       "  853.086,476.813 872.664,476.813 892.242,476.813 911.82,476.813 931.398,476.813 950.976,476.813 970.554,476.813 990.132,476.813 1009.71,476.813 1029.29,476.813 \n",
       "  1048.87,476.813 1068.44,476.813 1088.02,476.813 1107.6,476.813 1127.18,476.813 1146.76,476.813 1166.33,476.813 1185.91,476.813 1205.49,476.813 1225.07,476.813 \n",
       "  1244.65,476.813 1264.22,476.813 1283.8,476.813 1303.38,476.813 1322.96,476.813 1342.53,476.813 1362.11,476.813 1381.69,476.813 1401.27,476.813 1420.85,476.813 \n",
       "  1440.42,476.813 1460,476.813 1479.58,476.813 1499.16,476.813 1518.74,476.813 1538.31,476.813 1557.89,476.813 1577.47,476.813 1597.05,476.813 1616.63,476.813 \n",
       "  1636.2,476.813 1655.78,476.813 1675.36,476.813 1694.94,476.813 1714.52,476.813 1734.09,476.813 1753.67,476.813 1773.25,476.813 1792.83,476.813 1812.41,476.813 \n",
       "  1831.98,476.813 1851.56,476.813 1871.14,476.813 1890.72,476.813 1910.29,476.813 1929.87,476.813 1949.45,476.813 1969.03,476.813 1988.61,476.813 2008.18,476.813 \n",
       "  2027.76,476.813 2047.34,476.813 2066.92,476.813 2086.5,476.813 2106.07,476.813 2125.65,476.813 2145.23,476.813 2164.81,476.813 2184.39,476.813 2203.96,476.813 \n",
       "  2223.54,476.813 2243.12,476.813 \n",
       "  \"/>\n",
       "<polyline clip-path=\"url(#clip422)\" style=\"stroke:#97b476; stroke-linecap:round; stroke-linejoin:round; stroke-width:4; stroke-opacity:1; fill:none\" points=\"\n",
       "  2243.12,1056.88 2223.54,1056.88 2203.96,1056.88 2184.39,1056.88 2164.81,1056.88 2145.23,1056.88 2125.65,1056.88 2106.07,1056.88 2086.5,1056.88 2066.92,1056.88 \n",
       "  2047.34,1056.88 2027.76,1056.88 2008.18,1056.88 1988.61,1056.88 1969.03,1056.88 1949.45,1056.88 1929.87,1056.88 1910.29,1056.88 1890.72,1056.88 1871.14,1056.88 \n",
       "  1851.56,1056.88 1831.98,1056.88 1812.41,1056.88 1792.83,1056.88 1773.25,1056.88 1753.67,1056.88 1734.09,1056.88 1714.52,1056.88 1694.94,1056.88 1675.36,1056.88 \n",
       "  1655.78,1056.88 1636.2,1056.88 1616.63,1056.88 1597.05,1056.88 1577.47,1056.88 1557.89,1056.88 1538.31,1056.88 1518.74,1056.88 1499.16,1056.88 1479.58,1056.88 \n",
       "  1460,1056.88 1440.42,1056.88 1420.85,1056.88 1401.27,1056.88 1381.69,1056.88 1362.11,1056.88 1342.53,1056.88 1322.96,1056.88 1303.38,1056.88 1283.8,1056.88 \n",
       "  1264.22,1056.88 1244.65,1056.88 1225.07,1056.88 1205.49,1056.88 1185.91,1056.88 1166.33,1056.88 1146.76,1056.88 1127.18,1056.88 1107.6,1056.88 1088.02,1056.88 \n",
       "  1068.44,1056.88 1048.87,1056.88 1029.29,1056.88 1009.71,1056.88 990.132,1056.88 970.554,1056.88 950.976,1056.88 931.398,1056.88 911.82,1056.88 892.242,1056.88 \n",
       "  872.664,1056.88 853.086,1056.88 833.509,1056.88 813.931,1056.88 794.353,1056.88 774.775,1056.88 755.197,1056.88 735.619,1056.88 716.041,1056.88 696.463,1056.88 \n",
       "  676.885,1056.88 657.307,1056.88 637.729,1056.88 618.151,1056.88 598.573,1056.88 578.995,1056.88 559.417,1056.88 539.84,1056.88 520.262,1056.88 500.684,1056.88 \n",
       "  481.106,1056.88 461.528,1056.88 441.95,1056.88 422.372,1056.88 402.794,1056.88 383.216,1056.88 363.638,1056.88 344.06,1056.88 324.482,1056.88 304.904,1056.88 \n",
       "  285.326,1056.88 265.749,1056.88 \n",
       "  \"/>\n",
       "<polyline clip-path=\"url(#clip422)\" style=\"stroke:#ff0000; stroke-linecap:round; stroke-linejoin:round; stroke-width:4; stroke-opacity:1; fill:none\" points=\"\n",
       "  1064.72,476.813 1084.69,476.813 1104.66,476.813 1124.63,476.813 1144.6,476.813 1164.57,476.813 1184.54,476.813 1204.51,476.813 1224.48,476.813 1244.45,476.813 \n",
       "  1264.42,476.813 1284.39,476.813 1304.36,476.813 1324.33,476.813 1344.3,476.813 1364.27,476.813 1384.24,476.813 1404.21,476.813 1424.17,476.813 1444.14,476.813 \n",
       "  \n",
       "  \"/>\n",
       "<polyline clip-path=\"url(#clip422)\" style=\"stroke:#0000ff; stroke-linecap:round; stroke-linejoin:round; stroke-width:4; stroke-opacity:1; fill:none\" points=\"\n",
       "  255.96,1046.88 255.96,1026.88 255.96,1006.87 255.96,986.871 255.96,966.869 255.96,946.866 255.96,926.864 255.96,906.862 255.96,886.86 255.96,866.857 \n",
       "  255.96,846.855 255.96,826.853 255.96,806.851 255.96,786.848 255.96,766.846 255.96,746.844 255.96,726.841 255.96,706.839 255.96,686.837 255.96,666.835 \n",
       "  255.96,646.832 255.96,626.83 255.96,606.828 255.96,586.825 255.96,566.823 255.96,546.821 255.96,526.819 255.96,506.816 255.96,486.814 \n",
       "  \"/>\n",
       "</svg>\n"
      ]
     },
     "execution_count": 11,
     "metadata": {},
     "output_type": "execute_result"
    }
   ],
   "source": [
    "wt_walls = create_windtunnel_boundaries(g,params,withinlet=false)\n",
    "plot(airfoil)\n",
    "plot!(wt_walls,xlim=xlim,ylim=ylim)\n",
    "plot!(suction.boundary,lc=:red)\n",
    "plot!(inflow.boundary,lc=:blue)"
   ]
  },
  {
   "cell_type": "code",
   "execution_count": 12,
   "id": "20e19845",
   "metadata": {},
   "outputs": [],
   "source": [
    "prob = WindTunnelProblem(g,airfoil,phys_params=params;timestep_func=ViscousFlow.DEFAULT_TIMESTEP_FUNC,\n",
    "                                   bc=ViscousFlow.get_bc_func(nothing))\n",
    "sys = construct_system(prob);"
   ]
  },
  {
   "cell_type": "code",
   "execution_count": 13,
   "id": "146b7584",
   "metadata": {},
   "outputs": [],
   "source": [
    "u0 = init_sol(sys)\n",
    "tspan = (0.0,t_final)\n",
    "integrator = init(u0,tspan,sys);"
   ]
  },
  {
   "cell_type": "code",
   "execution_count": null,
   "id": "2eef7746",
   "metadata": {},
   "outputs": [],
   "source": [
    "step!(integrator,t_final)\n",
    "sol = integrator.sol;\n",
    "fx, fy = force(sol,sys,1);"
   ]
  },
  {
   "cell_type": "code",
   "execution_count": null,
   "id": "e37684fa",
   "metadata": {},
   "outputs": [],
   "source": [
    "anim_sample_freq = 5 # samples per simulated time unit\n",
    "anim_fps = 24 # frames per second of real time\n",
    "Δt = prob.timestep_func(sys) # simulated time per time step\n",
    "anim_sample_step = ceil(Int,1/(Δt*anim_sample_freq)) # time steps per sample"
   ]
  },
  {
   "cell_type": "code",
   "execution_count": null,
   "id": "4ee677b5",
   "metadata": {},
   "outputs": [],
   "source": [
    "pts = points(suction.boundary)\n",
    "vel = ScalarData(pts)\n",
    "Q_suction = []\n",
    "for i in 1:length(sol.t)\n",
    "    suction_velocity!(vel,suction.boundary,sol.t[i],params)\n",
    "    Q_suction_i = -integrate(vel,ScalarData(dlength(suction.boundary))) * W_TS_star\n",
    "    push!(Q_suction,Q_suction_i)\n",
    "end"
   ]
  },
  {
   "cell_type": "code",
   "execution_count": null,
   "id": "5e926d82",
   "metadata": {},
   "outputs": [],
   "source": [
    "ψ = zeros_gridcurl(sys)\n",
    "ViscousFlow.streamfunction!(ψ,sol.u[end].x[1],sys,sol.t[end])\n",
    "y_probe = 0:0.1*H_TS_star:H_TS_star\n",
    "ψ_fcn = interpolatable_field(ψ,g)\n",
    "ψ_probe = ψ_fcn.(0.0,y_probe)\n",
    "\n",
    "anim = @animate for i in 1:anim_sample_step:length(sol.t)\n",
    "#     l = @layout [a{0.6w} [Plots.grid(2,1)]]    \n",
    "    ViscousFlow.streamfunction!(ψ,sol.u[i].x[1],sys,sol.t[i])\n",
    "    p1=plot(ψ,sys,c=:gray,levels=ψ_probe,title=\"t = $(round(integrator.sol.t[i]; digits=1))\",xlabel=\"\\$x/c\\$\",ylabel=\"\\$y/c\\$\",clim=(-10,10))\n",
    "    plot!(sol.u[i].x[1],sys,clim=(-15,15),color=cgrad(:RdBu, rev = true),levels=range(-15,15,length=30))\n",
    "    plot!(wt_walls,xlim=xlim,ylim=ylim,lc=:black,lw=2)\n",
    "    plot!(suction.boundary,lc=:red,lw=2)\n",
    "    plot!(airfoil,fc=:white,lc=:black)\n",
    "    p2=plot(sol.t[1:i],Q_suction[1:i]/Q_in_star,xlim=(0.0,sol.t[end]),ylim=(0,1),ylabel=\"\\$Q_{suction}/Q_{in}\\$\",legend=false)\n",
    "    p3=plot(sol.t[1:i],fy[1:i],xlim=(0.0,integrator.sol.t[end]),ylim=(-3,3),xlabel=\"\\$tU/c\\$\",ylabel=\"\\$C_L\\$\",legend=false)\n",
    "#     plot(p1,p2,p3,layout = l,size=(1000,300),margin=4mm)\n",
    "    plot(p1,p2,p3, layout=Plots.grid(3, 1, heights=[0.4 ,0.15, 0.45]),size=(600,670))\n",
    "end\n",
    "gif(anim)"
   ]
  }
 ],
 "metadata": {
  "kernelspec": {
   "display_name": "Julia 1.8.2",
   "language": "julia",
   "name": "julia-1.8"
  },
  "language_info": {
   "file_extension": ".jl",
   "mimetype": "application/julia",
   "name": "julia",
   "version": "1.8.2"
  }
 },
 "nbformat": 4,
 "nbformat_minor": 5
}
