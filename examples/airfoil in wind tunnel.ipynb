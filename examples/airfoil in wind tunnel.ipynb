{
 "cells": [
  {
   "cell_type": "code",
   "execution_count": 1,
   "id": "630c756d",
   "metadata": {},
   "outputs": [],
   "source": [
    "using WindTunnelFlow\n",
    "using Plots"
   ]
  },
  {
   "cell_type": "code",
   "execution_count": 2,
   "id": "818f8be7",
   "metadata": {},
   "outputs": [
    {
     "data": {
      "text/plain": [
       "PhysicalGrid{2}((416, 208), (208, 104), 0.02, ((-4.14, 4.14), (-2.06, 2.06)))"
      ]
     },
     "execution_count": 2,
     "metadata": {},
     "output_type": "execute_result"
    }
   ],
   "source": [
    "params = Dict()\n",
    "params[\"Re\"] = 200\n",
    "params[\"grid Re\"] = 4.0\n",
    "params[\"wind tunnel length\"] = 6.0\n",
    "params[\"wind tunnel heigth\"] = 3.0\n",
    "params[\"freestream speed\"] = 1.0\n",
    "params[\"freestream angle\"] = 0.0\n",
    "xlim = (-4.0,4.0)\n",
    "ylim = (-2.0,2.0)\n",
    "g = setup_grid(xlim,ylim,params)"
   ]
  },
  {
   "cell_type": "code",
   "execution_count": 3,
   "id": "d583b00f",
   "metadata": {
    "scrolled": true
   },
   "outputs": [
    {
     "data": {
      "text/plain": [
       "Basic pointwise-specified body with 72 points\n",
       "   Current position: (0.0,0.0)\n",
       "   Current angle (rad): 0.0\n"
      ]
     },
     "execution_count": 3,
     "metadata": {},
     "output_type": "execute_result"
    }
   ],
   "source": [
    "α = 0 # degrees\n",
    "Δs = surface_point_spacing(g,params)\n",
    "airfoil = NACA4(0.0,0.0,0.12,300)\n",
    "body = SplinedBody(airfoil.x,airfoil.y,Δs)\n",
    "T = RigidTransform((0.0,0.0),-α*π/180)\n",
    "T(body) # transform the body to the current configuration"
   ]
  },
  {
   "cell_type": "code",
   "execution_count": null,
   "id": "f7920540",
   "metadata": {},
   "outputs": [],
   "source": [
    "wt_walls = create_windtunnelwalls(g,params)\n",
    "plot(body)\n",
    "plot!(wt_walls)"
   ]
  },
  {
   "cell_type": "code",
   "execution_count": null,
   "id": "ce1f4e0c",
   "metadata": {},
   "outputs": [],
   "source": [
    "prob = WindTunnelProblem(g,body,phys_params=params;timestep_func=ViscousFlow.DEFAULT_TIMESTEP_FUNC,\n",
    "                                   bc=ViscousFlow.get_bc_func(nothing))\n",
    "sys = construct_system(prob);\n",
    "u0 = init_sol(sys)\n",
    "tspan = (0.0,t_final)\n",
    "integrator = init(u0,tspan,sys);"
   ]
  },
  {
   "cell_type": "code",
   "execution_count": null,
   "id": "97d0311c",
   "metadata": {},
   "outputs": [],
   "source": [
    "step!(integrator,t_final)\n",
    "sol = integrator.sol;\n",
    "fx, fy = force(sol,sys,1);"
   ]
  },
  {
   "cell_type": "code",
   "execution_count": null,
   "id": "986231ae",
   "metadata": {},
   "outputs": [],
   "source": [
    "anim = @animate for i in 1:10:length(integrator.sol.t)\n",
    "    plot(integrator.sol.u[i].x[1],sys,levels=range(-15,15,length=50),title=\"t = $(round(integrator.sol.t[i]; digits=2))\")\n",
    "    plot!(wt_walls,xlims=xlims,ylims=ylims)\n",
    "end\n",
    "gif(anim)"
   ]
  },
  {
   "cell_type": "code",
   "execution_count": null,
   "id": "a46c7e0e",
   "metadata": {},
   "outputs": [],
   "source": []
  }
 ],
 "metadata": {
  "kernelspec": {
   "display_name": "Julia 1.6.2",
   "language": "julia",
   "name": "julia-1.6"
  },
  "language_info": {
   "file_extension": ".jl",
   "mimetype": "application/julia",
   "name": "julia",
   "version": "1.6.2"
  }
 },
 "nbformat": 4,
 "nbformat_minor": 5
}
